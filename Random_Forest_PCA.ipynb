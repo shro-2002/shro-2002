{
  "cells": [
    {
      "cell_type": "markdown",
      "metadata": {
        "id": "view-in-github",
        "colab_type": "text"
      },
      "source": [
        "<a href=\"https://colab.research.google.com/github/shro-2002/shro_2002/blob/main/Random_Forest_PCA.ipynb\" target=\"_parent\"><img src=\"https://colab.research.google.com/assets/colab-badge.svg\" alt=\"Open In Colab\"/></a>"
      ]
    },
    {
      "cell_type": "code",
      "execution_count": 214,
      "metadata": {
        "id": "G4n8_1DBqAw7",
        "colab": {
          "base_uri": "https://localhost:8080/",
          "height": 423
        },
        "outputId": "a4172d74-1a45-49ae-bc9a-4931977fcac6"
      },
      "outputs": [
        {
          "output_type": "execute_result",
          "data": {
            "text/plain": [
              "      0     1     2     3     4     5     6     7     8     9     ...  1015  \\\n",
              "0        0     0     0     0     0     0     0     0     0     0  ...     0   \n",
              "1        0     0     0     0     0     0     1     0     0     0  ...     0   \n",
              "2        0     0     1     0     0     0     0     0     0     0  ...     0   \n",
              "3        0     0     1     0     0     0     0     0     0     0  ...     0   \n",
              "4        0     0     1     0     0     0     0     0     0     0  ...     0   \n",
              "...    ...   ...   ...   ...   ...   ...   ...   ...   ...   ...  ...   ...   \n",
              "1682     0     0     1     0     0     0     0     1     0     1  ...     0   \n",
              "1683     0     0     0     0     0     0     0     0     0     0  ...     0   \n",
              "1684     0     0     0     0     0     0     0     0     0     0  ...     0   \n",
              "1685     0     0     1     0     0     0     0     0     0     0  ...     0   \n",
              "1686     0     0     1     0     0     0     0     0     0     0  ...     0   \n",
              "\n",
              "      1016  1017  1018  1019  1020  1021  1022  1023      1024  \n",
              "0        0     0     0     0     0     0     0     0  positive  \n",
              "1        0     1     0     0     0     1     0     0  positive  \n",
              "2        0     0     0     0     0     0     0     0  positive  \n",
              "3        0     0     0     0     0     0     0     0  positive  \n",
              "4        0     0     0     0     0     0     0     1  positive  \n",
              "...    ...   ...   ...   ...   ...   ...   ...   ...       ...  \n",
              "1682     0     1     0     0     0     0     1     0  negative  \n",
              "1683     0     0     0     0     0     0     0     0  negative  \n",
              "1684     0     1     0     0     0     0     0     0  negative  \n",
              "1685     0     0     0     0     0     0     0     0  negative  \n",
              "1686     0     0     0     0     0     0     0     0  negative  \n",
              "\n",
              "[1687 rows x 1025 columns]"
            ],
            "text/html": [
              "\n",
              "  <div id=\"df-bc9b2b32-ddad-4f87-b2d2-392aad8b4076\">\n",
              "    <div class=\"colab-df-container\">\n",
              "      <div>\n",
              "<style scoped>\n",
              "    .dataframe tbody tr th:only-of-type {\n",
              "        vertical-align: middle;\n",
              "    }\n",
              "\n",
              "    .dataframe tbody tr th {\n",
              "        vertical-align: top;\n",
              "    }\n",
              "\n",
              "    .dataframe thead th {\n",
              "        text-align: right;\n",
              "    }\n",
              "</style>\n",
              "<table border=\"1\" class=\"dataframe\">\n",
              "  <thead>\n",
              "    <tr style=\"text-align: right;\">\n",
              "      <th></th>\n",
              "      <th>0</th>\n",
              "      <th>1</th>\n",
              "      <th>2</th>\n",
              "      <th>3</th>\n",
              "      <th>4</th>\n",
              "      <th>5</th>\n",
              "      <th>6</th>\n",
              "      <th>7</th>\n",
              "      <th>8</th>\n",
              "      <th>9</th>\n",
              "      <th>...</th>\n",
              "      <th>1015</th>\n",
              "      <th>1016</th>\n",
              "      <th>1017</th>\n",
              "      <th>1018</th>\n",
              "      <th>1019</th>\n",
              "      <th>1020</th>\n",
              "      <th>1021</th>\n",
              "      <th>1022</th>\n",
              "      <th>1023</th>\n",
              "      <th>1024</th>\n",
              "    </tr>\n",
              "  </thead>\n",
              "  <tbody>\n",
              "    <tr>\n",
              "      <th>0</th>\n",
              "      <td>0</td>\n",
              "      <td>0</td>\n",
              "      <td>0</td>\n",
              "      <td>0</td>\n",
              "      <td>0</td>\n",
              "      <td>0</td>\n",
              "      <td>0</td>\n",
              "      <td>0</td>\n",
              "      <td>0</td>\n",
              "      <td>0</td>\n",
              "      <td>...</td>\n",
              "      <td>0</td>\n",
              "      <td>0</td>\n",
              "      <td>0</td>\n",
              "      <td>0</td>\n",
              "      <td>0</td>\n",
              "      <td>0</td>\n",
              "      <td>0</td>\n",
              "      <td>0</td>\n",
              "      <td>0</td>\n",
              "      <td>positive</td>\n",
              "    </tr>\n",
              "    <tr>\n",
              "      <th>1</th>\n",
              "      <td>0</td>\n",
              "      <td>0</td>\n",
              "      <td>0</td>\n",
              "      <td>0</td>\n",
              "      <td>0</td>\n",
              "      <td>0</td>\n",
              "      <td>1</td>\n",
              "      <td>0</td>\n",
              "      <td>0</td>\n",
              "      <td>0</td>\n",
              "      <td>...</td>\n",
              "      <td>0</td>\n",
              "      <td>0</td>\n",
              "      <td>1</td>\n",
              "      <td>0</td>\n",
              "      <td>0</td>\n",
              "      <td>0</td>\n",
              "      <td>1</td>\n",
              "      <td>0</td>\n",
              "      <td>0</td>\n",
              "      <td>positive</td>\n",
              "    </tr>\n",
              "    <tr>\n",
              "      <th>2</th>\n",
              "      <td>0</td>\n",
              "      <td>0</td>\n",
              "      <td>1</td>\n",
              "      <td>0</td>\n",
              "      <td>0</td>\n",
              "      <td>0</td>\n",
              "      <td>0</td>\n",
              "      <td>0</td>\n",
              "      <td>0</td>\n",
              "      <td>0</td>\n",
              "      <td>...</td>\n",
              "      <td>0</td>\n",
              "      <td>0</td>\n",
              "      <td>0</td>\n",
              "      <td>0</td>\n",
              "      <td>0</td>\n",
              "      <td>0</td>\n",
              "      <td>0</td>\n",
              "      <td>0</td>\n",
              "      <td>0</td>\n",
              "      <td>positive</td>\n",
              "    </tr>\n",
              "    <tr>\n",
              "      <th>3</th>\n",
              "      <td>0</td>\n",
              "      <td>0</td>\n",
              "      <td>1</td>\n",
              "      <td>0</td>\n",
              "      <td>0</td>\n",
              "      <td>0</td>\n",
              "      <td>0</td>\n",
              "      <td>0</td>\n",
              "      <td>0</td>\n",
              "      <td>0</td>\n",
              "      <td>...</td>\n",
              "      <td>0</td>\n",
              "      <td>0</td>\n",
              "      <td>0</td>\n",
              "      <td>0</td>\n",
              "      <td>0</td>\n",
              "      <td>0</td>\n",
              "      <td>0</td>\n",
              "      <td>0</td>\n",
              "      <td>0</td>\n",
              "      <td>positive</td>\n",
              "    </tr>\n",
              "    <tr>\n",
              "      <th>4</th>\n",
              "      <td>0</td>\n",
              "      <td>0</td>\n",
              "      <td>1</td>\n",
              "      <td>0</td>\n",
              "      <td>0</td>\n",
              "      <td>0</td>\n",
              "      <td>0</td>\n",
              "      <td>0</td>\n",
              "      <td>0</td>\n",
              "      <td>0</td>\n",
              "      <td>...</td>\n",
              "      <td>0</td>\n",
              "      <td>0</td>\n",
              "      <td>0</td>\n",
              "      <td>0</td>\n",
              "      <td>0</td>\n",
              "      <td>0</td>\n",
              "      <td>0</td>\n",
              "      <td>0</td>\n",
              "      <td>1</td>\n",
              "      <td>positive</td>\n",
              "    </tr>\n",
              "    <tr>\n",
              "      <th>...</th>\n",
              "      <td>...</td>\n",
              "      <td>...</td>\n",
              "      <td>...</td>\n",
              "      <td>...</td>\n",
              "      <td>...</td>\n",
              "      <td>...</td>\n",
              "      <td>...</td>\n",
              "      <td>...</td>\n",
              "      <td>...</td>\n",
              "      <td>...</td>\n",
              "      <td>...</td>\n",
              "      <td>...</td>\n",
              "      <td>...</td>\n",
              "      <td>...</td>\n",
              "      <td>...</td>\n",
              "      <td>...</td>\n",
              "      <td>...</td>\n",
              "      <td>...</td>\n",
              "      <td>...</td>\n",
              "      <td>...</td>\n",
              "      <td>...</td>\n",
              "    </tr>\n",
              "    <tr>\n",
              "      <th>1682</th>\n",
              "      <td>0</td>\n",
              "      <td>0</td>\n",
              "      <td>1</td>\n",
              "      <td>0</td>\n",
              "      <td>0</td>\n",
              "      <td>0</td>\n",
              "      <td>0</td>\n",
              "      <td>1</td>\n",
              "      <td>0</td>\n",
              "      <td>1</td>\n",
              "      <td>...</td>\n",
              "      <td>0</td>\n",
              "      <td>0</td>\n",
              "      <td>1</td>\n",
              "      <td>0</td>\n",
              "      <td>0</td>\n",
              "      <td>0</td>\n",
              "      <td>0</td>\n",
              "      <td>1</td>\n",
              "      <td>0</td>\n",
              "      <td>negative</td>\n",
              "    </tr>\n",
              "    <tr>\n",
              "      <th>1683</th>\n",
              "      <td>0</td>\n",
              "      <td>0</td>\n",
              "      <td>0</td>\n",
              "      <td>0</td>\n",
              "      <td>0</td>\n",
              "      <td>0</td>\n",
              "      <td>0</td>\n",
              "      <td>0</td>\n",
              "      <td>0</td>\n",
              "      <td>0</td>\n",
              "      <td>...</td>\n",
              "      <td>0</td>\n",
              "      <td>0</td>\n",
              "      <td>0</td>\n",
              "      <td>0</td>\n",
              "      <td>0</td>\n",
              "      <td>0</td>\n",
              "      <td>0</td>\n",
              "      <td>0</td>\n",
              "      <td>0</td>\n",
              "      <td>negative</td>\n",
              "    </tr>\n",
              "    <tr>\n",
              "      <th>1684</th>\n",
              "      <td>0</td>\n",
              "      <td>0</td>\n",
              "      <td>0</td>\n",
              "      <td>0</td>\n",
              "      <td>0</td>\n",
              "      <td>0</td>\n",
              "      <td>0</td>\n",
              "      <td>0</td>\n",
              "      <td>0</td>\n",
              "      <td>0</td>\n",
              "      <td>...</td>\n",
              "      <td>0</td>\n",
              "      <td>0</td>\n",
              "      <td>1</td>\n",
              "      <td>0</td>\n",
              "      <td>0</td>\n",
              "      <td>0</td>\n",
              "      <td>0</td>\n",
              "      <td>0</td>\n",
              "      <td>0</td>\n",
              "      <td>negative</td>\n",
              "    </tr>\n",
              "    <tr>\n",
              "      <th>1685</th>\n",
              "      <td>0</td>\n",
              "      <td>0</td>\n",
              "      <td>1</td>\n",
              "      <td>0</td>\n",
              "      <td>0</td>\n",
              "      <td>0</td>\n",
              "      <td>0</td>\n",
              "      <td>0</td>\n",
              "      <td>0</td>\n",
              "      <td>0</td>\n",
              "      <td>...</td>\n",
              "      <td>0</td>\n",
              "      <td>0</td>\n",
              "      <td>0</td>\n",
              "      <td>0</td>\n",
              "      <td>0</td>\n",
              "      <td>0</td>\n",
              "      <td>0</td>\n",
              "      <td>0</td>\n",
              "      <td>0</td>\n",
              "      <td>negative</td>\n",
              "    </tr>\n",
              "    <tr>\n",
              "      <th>1686</th>\n",
              "      <td>0</td>\n",
              "      <td>0</td>\n",
              "      <td>1</td>\n",
              "      <td>0</td>\n",
              "      <td>0</td>\n",
              "      <td>0</td>\n",
              "      <td>0</td>\n",
              "      <td>0</td>\n",
              "      <td>0</td>\n",
              "      <td>0</td>\n",
              "      <td>...</td>\n",
              "      <td>0</td>\n",
              "      <td>0</td>\n",
              "      <td>0</td>\n",
              "      <td>0</td>\n",
              "      <td>0</td>\n",
              "      <td>0</td>\n",
              "      <td>0</td>\n",
              "      <td>0</td>\n",
              "      <td>0</td>\n",
              "      <td>negative</td>\n",
              "    </tr>\n",
              "  </tbody>\n",
              "</table>\n",
              "<p>1687 rows × 1025 columns</p>\n",
              "</div>\n",
              "      <button class=\"colab-df-convert\" onclick=\"convertToInteractive('df-bc9b2b32-ddad-4f87-b2d2-392aad8b4076')\"\n",
              "              title=\"Convert this dataframe to an interactive table.\"\n",
              "              style=\"display:none;\">\n",
              "        \n",
              "  <svg xmlns=\"http://www.w3.org/2000/svg\" height=\"24px\"viewBox=\"0 0 24 24\"\n",
              "       width=\"24px\">\n",
              "    <path d=\"M0 0h24v24H0V0z\" fill=\"none\"/>\n",
              "    <path d=\"M18.56 5.44l.94 2.06.94-2.06 2.06-.94-2.06-.94-.94-2.06-.94 2.06-2.06.94zm-11 1L8.5 8.5l.94-2.06 2.06-.94-2.06-.94L8.5 2.5l-.94 2.06-2.06.94zm10 10l.94 2.06.94-2.06 2.06-.94-2.06-.94-.94-2.06-.94 2.06-2.06.94z\"/><path d=\"M17.41 7.96l-1.37-1.37c-.4-.4-.92-.59-1.43-.59-.52 0-1.04.2-1.43.59L10.3 9.45l-7.72 7.72c-.78.78-.78 2.05 0 2.83L4 21.41c.39.39.9.59 1.41.59.51 0 1.02-.2 1.41-.59l7.78-7.78 2.81-2.81c.8-.78.8-2.07 0-2.86zM5.41 20L4 18.59l7.72-7.72 1.47 1.35L5.41 20z\"/>\n",
              "  </svg>\n",
              "      </button>\n",
              "      \n",
              "  <style>\n",
              "    .colab-df-container {\n",
              "      display:flex;\n",
              "      flex-wrap:wrap;\n",
              "      gap: 12px;\n",
              "    }\n",
              "\n",
              "    .colab-df-convert {\n",
              "      background-color: #E8F0FE;\n",
              "      border: none;\n",
              "      border-radius: 50%;\n",
              "      cursor: pointer;\n",
              "      display: none;\n",
              "      fill: #1967D2;\n",
              "      height: 32px;\n",
              "      padding: 0 0 0 0;\n",
              "      width: 32px;\n",
              "    }\n",
              "\n",
              "    .colab-df-convert:hover {\n",
              "      background-color: #E2EBFA;\n",
              "      box-shadow: 0px 1px 2px rgba(60, 64, 67, 0.3), 0px 1px 3px 1px rgba(60, 64, 67, 0.15);\n",
              "      fill: #174EA6;\n",
              "    }\n",
              "\n",
              "    [theme=dark] .colab-df-convert {\n",
              "      background-color: #3B4455;\n",
              "      fill: #D2E3FC;\n",
              "    }\n",
              "\n",
              "    [theme=dark] .colab-df-convert:hover {\n",
              "      background-color: #434B5C;\n",
              "      box-shadow: 0px 1px 3px 1px rgba(0, 0, 0, 0.15);\n",
              "      filter: drop-shadow(0px 1px 2px rgba(0, 0, 0, 0.3));\n",
              "      fill: #FFFFFF;\n",
              "    }\n",
              "  </style>\n",
              "\n",
              "      <script>\n",
              "        const buttonEl =\n",
              "          document.querySelector('#df-bc9b2b32-ddad-4f87-b2d2-392aad8b4076 button.colab-df-convert');\n",
              "        buttonEl.style.display =\n",
              "          google.colab.kernel.accessAllowed ? 'block' : 'none';\n",
              "\n",
              "        async function convertToInteractive(key) {\n",
              "          const element = document.querySelector('#df-bc9b2b32-ddad-4f87-b2d2-392aad8b4076');\n",
              "          const dataTable =\n",
              "            await google.colab.kernel.invokeFunction('convertToInteractive',\n",
              "                                                     [key], {});\n",
              "          if (!dataTable) return;\n",
              "\n",
              "          const docLinkHtml = 'Like what you see? Visit the ' +\n",
              "            '<a target=\"_blank\" href=https://colab.research.google.com/notebooks/data_table.ipynb>data table notebook</a>'\n",
              "            + ' to learn more about interactive tables.';\n",
              "          element.innerHTML = '';\n",
              "          dataTable['output_type'] = 'display_data';\n",
              "          await google.colab.output.renderOutput(dataTable, element);\n",
              "          const docLink = document.createElement('div');\n",
              "          docLink.innerHTML = docLinkHtml;\n",
              "          element.appendChild(docLink);\n",
              "        }\n",
              "      </script>\n",
              "    </div>\n",
              "  </div>\n",
              "  "
            ]
          },
          "metadata": {},
          "execution_count": 214
        }
      ],
      "source": [
        "# Import libraries\n",
        "import pandas as pd\n",
        "import seaborn as sns\n",
        "import numpy as np\n",
        "import matplotlib.pyplot as plt\n",
        "from sklearn.decomposition import FactorAnalysis\n",
        "from sklearn.metrics import roc_curve, auc\n",
        "from sklearn.preprocessing import LabelEncoder\n",
        "from imblearn.over_sampling import SMOTE\n",
        "from imblearn.over_sampling import ADASYN\n",
        "from sklearn.metrics import accuracy_score\n",
        "from sklearn.metrics import classification_report\n",
        "import xgboost as xgb\n",
        "from sklearn.metrics import log_loss\n",
        "from sklearn.neighbors import KNeighborsClassifier\n",
        "from sklearn.ensemble import RandomForestClassifier\n",
        "from sklearn.model_selection import train_test_split\n",
        "\n",
        "df = pd.read_csv(\"qsar_androgen_receptor.csv\", delimiter = \";\", header = None)\n",
        "df"
      ]
    },
    {
      "cell_type": "code",
      "source": [
        "positives = sum(df[1024]=='positive')\n",
        "negatives = sum(df[1024]=='negative')\n",
        "\n",
        "# plot bar plot\n",
        "plt.bar(['positive', 'negative'], [positives, negatives])\n",
        "plt.xlabel('Experimental Class')\n",
        "plt.ylabel('Count')\n",
        "plt.title('Class Distribution')\n",
        "plt.show()\n"
      ],
      "metadata": {
        "colab": {
          "base_uri": "https://localhost:8080/",
          "height": 295
        },
        "id": "6ZXkyy0pwdXj",
        "outputId": "ca4aec0a-35ec-4fe4-89ae-f785798d05a1"
      },
      "execution_count": 215,
      "outputs": [
        {
          "output_type": "display_data",
          "data": {
            "text/plain": [
              "<Figure size 432x288 with 1 Axes>"
            ],
            "image/png": "[encoded data removed]"
          },
          "metadata": {
            "needs_background": "light"
          }
        }
      ]
    },
    {
      "cell_type": "code",
      "source": [
        "\n",
        "\n",
        "# create an instance of LabelEncoder\n",
        "le = LabelEncoder()\n",
        "\n",
        "# fit and transform the column of categorical data\n",
        "df[1024] = le.fit_transform(df[1024])\n",
        "\n",
        "df[1024]\n"
      ],
      "metadata": {
        "colab": {
          "base_uri": "https://localhost:8080/"
        },
        "id": "R1wBJdmwleL5",
        "outputId": "722b9b81-e72f-4097-a5e8-a2e7e6b8dcec"
      },
      "execution_count": 216,
      "outputs": [
        {
          "output_type": "execute_result",
          "data": {
            "text/plain": [
              "0       1\n",
              "1       1\n",
              "2       1\n",
              "3       1\n",
              "4       1\n",
              "       ..\n",
              "1682    0\n",
              "1683    0\n",
              "1684    0\n",
              "1685    0\n",
              "1686    0\n",
              "Name: 1024, Length: 1687, dtype: int64"
            ]
          },
          "metadata": {},
          "execution_count": 216
        }
      ]
    },
    {
      "cell_type": "code",
      "source": [
        "# from imblearn.over_sampling import SMOTE\n",
        "\n",
        "# # Separate input features and target\n",
        "# X = df.drop(df.columns[1024], axis=1)\n",
        "# y = df[1024]\n",
        "\n",
        "# # Apply SMOTE\n",
        "# smote = SMOTE()\n",
        "# X,y = smote.fit_resample(X, y)\n"
      ],
      "metadata": {
        "id": "ZLPfSXZYh00A"
      },
      "execution_count": 217,
      "outputs": []
    },
    {
      "cell_type": "code",
      "source": [
        "\n",
        "\n",
        "x1= [i for i in range(1024)] # x-coordinates\n",
        "y1 = [df[i][1024] for i in range(1024)] # y-coordinates\n",
        "\n",
        "colors = []\n",
        "for j in y1:\n",
        "  if j == 0:\n",
        "    colors.append('red')\n",
        "  else:\n",
        "    colors.append('yellow')\n",
        "\n",
        "plt.scatter(x1, y1,c=colors)\n",
        "plt.xlabel('X Label')\n",
        "plt.ylabel('Y Label')\n",
        "plt.title('Scatter Plot')\n",
        "plt.show()\n"
      ],
      "metadata": {
        "colab": {
          "base_uri": "https://localhost:8080/",
          "height": 295
        },
        "id": "kUGauYzQNAe3",
        "outputId": "f1260bd9-7bf7-4464-d2ee-f96dbf4fc6ac"
      },
      "execution_count": 218,
      "outputs": [
        {
          "output_type": "display_data",
          "data": {
            "text/plain": [
              "<Figure size 432x288 with 1 Axes>"
            ],
            "image/png": "[encoded data removed]"
          },
          "metadata": {
            "needs_background": "light"
          }
        }
      ]
    },
    {
      "cell_type": "code",
      "execution_count": 219,
      "metadata": {
        "id": "TuZqazsstdRx",
        "colab": {
          "base_uri": "https://localhost:8080/"
        },
        "outputId": "8bed0b43-bbf2-4375-efa6-29f702b6951d"
      },
      "outputs": [
        {
          "output_type": "stream",
          "name": "stdout",
          "text": [
            "0       int64\n",
            "1       int64\n",
            "2       int64\n",
            "3       int64\n",
            "4       int64\n",
            "        ...  \n",
            "1019    int64\n",
            "1020    int64\n",
            "1021    int64\n",
            "1022    int64\n",
            "1023    int64\n",
            "Length: 1024, dtype: object\n"
          ]
        }
      ],
      "source": [
        "from sklearn.model_selection import train_test_split\n",
        "\n",
        "# feature and target variables\n",
        "X = df.iloc[:, :-1]\n",
        "y = df.iloc[:, -1]\n",
        "\n",
        "print(X.dtypes)\n",
        "\n"
      ]
    },
    {
      "cell_type": "code",
      "source": [
        "\n",
        "\n",
        "# create a FactorAnalysis object with the number of components you want to extract\n",
        "n_components = 3\n",
        "fa = FactorAnalysis(n_components=n_components, rotation=\"varimax\")\n",
        "\n",
        "# fit the model to your binary data\n",
        "fa.fit(X)\n",
        "\n",
        "# transform your data using the fitted model\n",
        "X_transformed = fa.transform(X)\n",
        "X=X_transformed\n",
        "\n",
        "print(X.shape)"
      ],
      "metadata": {
        "id": "kw1uoicI3xJW",
        "colab": {
          "base_uri": "https://localhost:8080/"
        },
        "outputId": "0c1c45ee-4f5e-4e8d-f0b3-07431cfa854c"
      },
      "execution_count": 220,
      "outputs": [
        {
          "output_type": "stream",
          "name": "stdout",
          "text": [
            "(1687, 3)\n"
          ]
        }
      ]
    },
    {
      "cell_type": "code",
      "execution_count": 221,
      "metadata": {
        "id": "5qX2qBxcwKv5"
      },
      "outputs": [],
      "source": [
        "# split the data into training and testing sets\n",
        "X_train, X_test, y_train, y_test = train_test_split(X, y, test_size=0.2, random_state=100)\n"
      ]
    },
    {
      "cell_type": "code",
      "source": [
        "\n",
        "\n",
        "# apply SMOTE to the training data only\n",
        "smote = SMOTE(random_state=42)\n",
        "X_train1, y_train1 = smote.fit_resample(X_train, y_train)\n",
        "\n",
        "\n",
        "adasyn = ADASYN(random_state=42)\n",
        "X_train_resampled, y_train_resampled = adasyn.fit_resample(X_train, y_train)"
      ],
      "metadata": {
        "id": "nL6z2XiUQ8m0"
      },
      "execution_count": 222,
      "outputs": []
    },
    {
      "cell_type": "code",
      "source": [
        "knn = KNeighborsClassifier(n_neighbors=11)\n",
        "knn1 = KNeighborsClassifier(n_neighbors=11)\n",
        "\n",
        "knn.fit(X_train1, y_train1)\n",
        "knn1.fit(X_train_resampled, y_train_resampled)\n",
        "\n",
        "# Make predictions on the test data\n",
        "knn_pred = knn.predict(X_test)\n",
        "knn_pred1 = knn1.predict(X_test)\n",
        "\n",
        "#calculate the accuracy score for SMOTE\n",
        "acc = accuracy_score(y_test, knn_pred)\n",
        "print(\"Accuracy: {:.2f}%\".format(acc * 100))\n",
        "\n",
        "#calculate the accuracy score for ADASYN\n",
        "acc = accuracy_score(y_test, knn_pred1)\n",
        "print(\"Accuracy: {:.2f}%\".format(acc * 100))\n",
        "\n",
        "\n",
        "print(classification_report(y_test, knn_pred))\n",
        "print(classification_report(y_test, knn_pred1))\n",
        "\n",
        "loss = log_loss(y_test, knn_pred)\n",
        "print(\"Cross-entropy Loss:\", loss)\n",
        "\n",
        "\n",
        "loss = log_loss(y_test, knn_pred1)\n",
        "print(\"Cross-entropy Loss:\", loss)\n",
        "\n",
        "# calculate false positive rate (fpr), true positive rate (tpr), and threshold values\n",
        "fpr, tpr, thresholds = roc_curve(y_test, knn_pred)\n",
        "\n",
        "# calculate area under the curve (AUC)\n",
        "roc_auc = auc(fpr, tpr)\n",
        "\n",
        "# plot ROC curve\n",
        "plt.figure()\n",
        "plt.plot(fpr, tpr, color='darkorange', lw=2, label='ROC curve (area = %0.2f)' % roc_auc)\n",
        "plt.plot([0, 1], [0, 1], color='navy', lw=2, linestyle='--')\n",
        "plt.xlim([0.0, 1.0])\n",
        "plt.ylim([0.0, 1.05])\n",
        "plt.xlabel('False Positive Rate')\n",
        "plt.ylabel('True Positive Rate')\n",
        "plt.title('Receiver Operating Characteristic (ROC) Curve')\n",
        "plt.legend(loc=\"lower right\")\n",
        "plt.show()\n",
        "\n",
        "\n",
        "# calculate false positive rate (fpr), true positive rate (tpr), and threshold values\n",
        "fpr, tpr, thresholds = roc_curve(y_test, knn_pred1)\n",
        "\n",
        "# calculate area under the curve (AUC)\n",
        "roc_auc = auc(fpr, tpr)\n",
        "\n",
        "# plot ROC curve\n",
        "plt.figure()\n",
        "plt.plot(fpr, tpr, color='darkorange', lw=2, label='ROC curve (area = %0.2f)' % roc_auc)\n",
        "plt.plot([0, 1], [0, 1], color='navy', lw=2, linestyle='--')\n",
        "plt.xlim([0.0, 1.0])\n",
        "plt.ylim([0.0, 1.05])\n",
        "plt.xlabel('False Positive Rate')\n",
        "plt.ylabel('True Positive Rate')\n",
        "plt.title('Receiver Operating Characteristic (ROC) Curve')\n",
        "plt.legend(loc=\"lower right\")\n",
        "plt.show()\n"
      ],
      "metadata": {
        "colab": {
          "base_uri": "https://localhost:8080/",
          "height": 971
        },
        "id": "qNJm8-exgGL5",
        "outputId": "e7b4410f-b6df-442f-935a-44d600dc6a6b"
      },
      "execution_count": 223,
      "outputs": [
        {
          "output_type": "stream",
          "name": "stdout",
          "text": [
            "Accuracy: 71.01%\n",
            "Accuracy: 67.46%\n",
            "              precision    recall  f1-score   support\n",
            "\n",
            "           0       0.95      0.71      0.81       300\n",
            "           1       0.23      0.68      0.35        38\n",
            "\n",
            "    accuracy                           0.71       338\n",
            "   macro avg       0.59      0.70      0.58       338\n",
            "weighted avg       0.87      0.71      0.76       338\n",
            "\n",
            "              precision    recall  f1-score   support\n",
            "\n",
            "           0       0.94      0.67      0.79       300\n",
            "           1       0.21      0.68      0.32        38\n",
            "\n",
            "    accuracy                           0.67       338\n",
            "   macro avg       0.58      0.68      0.55       338\n",
            "weighted avg       0.86      0.67      0.73       338\n",
            "\n",
            "Cross-entropy Loss: 10.450526722288405\n",
            "Cross-entropy Loss: 11.730183055629842\n"
          ]
        },
        {
          "output_type": "display_data",
          "data": {
            "text/plain": [
              "<Figure size 432x288 with 1 Axes>"
            ],
            "image/png": "[encoded data removed]"
          },
          "metadata": {
            "needs_background": "light"
          }
        },
        {
          "output_type": "display_data",
          "data": {
            "text/plain": [
              "<Figure size 432x288 with 1 Axes>"
            ],
            "image/png": "[encoded data removed]"
          },
          "metadata": {
            "needs_background": "light"
          }
        }
      ]
    },
    {
      "cell_type": "code",
      "execution_count": 224,
      "metadata": {
        "id": "blO1y5s6215z",
        "colab": {
          "base_uri": "https://localhost:8080/",
          "height": 295
        },
        "outputId": "bf40e061-de0f-427b-9a6d-f2f43e0f83e6"
      },
      "outputs": [
        {
          "output_type": "display_data",
          "data": {
            "text/plain": [
              "<Figure size 432x288 with 1 Axes>"
            ],
            "image/png": "[encoded data removed]"
          },
          "metadata": {
            "needs_background": "light"
          }
        }
      ],
      "source": [
        "xgb_model = xgb.XGBClassifier(max_depth=3, n_estimators=500, learning_rate=0.1)\n",
        "\n",
        "xgb_model.fit(X_train1, y_train1)\n",
        "xgb_pred = xgb_model.predict(X_test)\n",
        "\n",
        "\n",
        "\n",
        "xgb_model1 = xgb.XGBClassifier(max_depth=3, n_estimators=500, learning_rate=0.1)\n",
        "\n",
        "xgb_model1.fit(X_train_resampled, y_train_resampled)\n",
        "xgb_pred1 = xgb_model1.predict(X_test)\n",
        "\n",
        "\n",
        "\n",
        "\n",
        "# calculate false positive rate (fpr), true positive rate (tpr), and threshold values\n",
        "fpr, tpr, thresholds = roc_curve(y_test, xgb_pred)\n",
        "\n",
        "# calculate area under the curve (AUC)\n",
        "roc_auc = auc(fpr, tpr)\n",
        "\n",
        "# plot ROC curve\n",
        "plt.figure()\n",
        "plt.plot(fpr, tpr, color='darkorange', lw=2, label='ROC curve (area = %0.2f)' % roc_auc)\n",
        "plt.plot([0, 1], [0, 1], color='navy', lw=2, linestyle='--')\n",
        "plt.xlim([0.0, 1.0])\n",
        "plt.ylim([0.0, 1.05])\n",
        "plt.xlabel('False Positive Rate')\n",
        "plt.ylabel('True Positive Rate')\n",
        "plt.title('Receiver Operating Characteristic (ROC) Curve')\n",
        "plt.legend(loc=\"lower right\")\n",
        "plt.show()\n",
        "\n",
        "\n"
      ]
    },
    {
      "cell_type": "code",
      "execution_count": 225,
      "metadata": {
        "id": "v50tVaRE25tc",
        "colab": {
          "base_uri": "https://localhost:8080/",
          "height": 693
        },
        "outputId": "def596b6-4a9a-4766-b977-35d712ffb9bb"
      },
      "outputs": [
        {
          "output_type": "stream",
          "name": "stdout",
          "text": [
            "Accuracy: 79.29%\n",
            "Accuracy: 77.51%\n",
            "              precision    recall  f1-score   support\n",
            "\n",
            "           0       0.94      0.82      0.88       300\n",
            "           1       0.28      0.55      0.38        38\n",
            "\n",
            "    accuracy                           0.79       338\n",
            "   macro avg       0.61      0.69      0.63       338\n",
            "weighted avg       0.86      0.79      0.82       338\n",
            "\n",
            "              precision    recall  f1-score   support\n",
            "\n",
            "           0       0.94      0.79      0.86       300\n",
            "           1       0.28      0.63      0.39        38\n",
            "\n",
            "    accuracy                           0.78       338\n",
            "   macro avg       0.61      0.71      0.62       338\n",
            "weighted avg       0.87      0.78      0.81       338\n",
            "\n"
          ]
        },
        {
          "output_type": "display_data",
          "data": {
            "text/plain": [
              "<Figure size 432x288 with 1 Axes>"
            ],
            "image/png": "[encoded data removed]"
          },
          "metadata": {
            "needs_background": "light"
          }
        },
        {
          "output_type": "stream",
          "name": "stdout",
          "text": [
            "Cross-entropy Loss: 7.464661944491719\n",
            "Cross-entropy Loss: 8.104490111162436\n"
          ]
        }
      ],
      "source": [
        "\n",
        "#calculate the accuracy score for SMOTE\n",
        "acc = accuracy_score(y_test, xgb_pred)\n",
        "print(\"Accuracy: {:.2f}%\".format(acc * 100))\n",
        "\n",
        "#calculate the accuracy score for ADASYN\n",
        "acc = accuracy_score(y_test, xgb_pred1)\n",
        "print(\"Accuracy: {:.2f}%\".format(acc * 100))\n",
        "\n",
        "\n",
        "print(classification_report(y_test, xgb_pred))\n",
        "print(classification_report(y_test, xgb_pred1))\n",
        "\n",
        "\n",
        "from sklearn.metrics import roc_curve, auc\n",
        "\n",
        "\n",
        "# calculate false positive rate (fpr), true positive rate (tpr), and threshold values\n",
        "fpr, tpr, thresholds = roc_curve(y_test, xgb_pred1)\n",
        "\n",
        "# calculate area under the curve (AUC)\n",
        "roc_auc = auc(fpr, tpr)\n",
        "\n",
        "# plot ROC curve\n",
        "plt.figure()\n",
        "plt.plot(fpr, tpr, color='darkorange', lw=2, label='ROC curve (area = %0.2f)' % roc_auc)\n",
        "plt.plot([0, 1], [0, 1], color='navy', lw=2, linestyle='--')\n",
        "plt.xlim([0.0, 1.0])\n",
        "plt.ylim([0.0, 1.05])\n",
        "plt.xlabel('False Positive Rate')\n",
        "plt.ylabel('True Positive Rate')\n",
        "plt.title('Receiver Operating Characteristic (ROC) Curve')\n",
        "plt.legend(loc=\"lower right\")\n",
        "plt.show()\n",
        "\n",
        "loss = log_loss(y_test, xgb_pred)\n",
        "print(\"Cross-entropy Loss:\", loss)\n",
        "\n",
        "loss = log_loss(y_test, xgb_pred1)\n",
        "print(\"Cross-entropy Loss:\", loss)"
      ]
    },
    {
      "cell_type": "code",
      "execution_count": 226,
      "metadata": {
        "id": "wv7UvFMO3E3S",
        "outputId": "f564f78f-2228-46de-e93a-f160ad7ffa31",
        "colab": {
          "base_uri": "https://localhost:8080/",
          "height": 971
        }
      },
      "outputs": [
        {
          "output_type": "stream",
          "name": "stdout",
          "text": [
            "Accuracy: 72.49%\n",
            "              precision    recall  f1-score   support\n",
            "\n",
            "           0       0.96      0.72      0.82       300\n",
            "           1       0.26      0.79      0.39        38\n",
            "\n",
            "    accuracy                           0.72       338\n",
            "   macro avg       0.61      0.75      0.61       338\n",
            "weighted avg       0.89      0.72      0.77       338\n",
            "\n"
          ]
        },
        {
          "output_type": "display_data",
          "data": {
            "text/plain": [
              "<Figure size 432x288 with 1 Axes>"
            ],
            "image/png": "[encoded data removed]"
          },
          "metadata": {
            "needs_background": "light"
          }
        },
        {
          "output_type": "stream",
          "name": "stdout",
          "text": [
            "Accuracy: 69.53%\n",
            "              precision    recall  f1-score   support\n",
            "\n",
            "           0       0.96      0.68      0.80       300\n",
            "           1       0.24      0.79      0.37        38\n",
            "\n",
            "    accuracy                           0.70       338\n",
            "   macro avg       0.60      0.74      0.58       338\n",
            "weighted avg       0.88      0.70      0.75       338\n",
            "\n"
          ]
        },
        {
          "output_type": "display_data",
          "data": {
            "text/plain": [
              "<Figure size 432x288 with 1 Axes>"
            ],
            "image/png": "[encoded data removed]"
          },
          "metadata": {
            "needs_background": "light"
          }
        },
        {
          "output_type": "stream",
          "name": "stdout",
          "text": [
            "Cross-entropy Loss: 9.917336583396139\n",
            "Cross-entropy Loss: 10.983716861180671\n"
          ]
        }
      ],
      "source": [
        "# create a RandomForestClassifier object with desired hyperparameters\n",
        "rf_model = RandomForestClassifier(n_estimators=500, max_depth=3)\n",
        "# fit the model to the training data\n",
        "rf_model.fit(X_train1, y_train1)\n",
        "\n",
        "rf_pred = rf_model.predict(X_test)\n",
        "\n",
        "acc2 = accuracy_score(y_test, rf_pred)\n",
        "print(\"Accuracy: {:.2f}%\".format(acc2 * 100))\n",
        "\n",
        "print(classification_report(y_test, rf_pred))\n",
        "from sklearn.metrics import roc_curve, auc\n",
        "\n",
        "\n",
        "# calculate false positive rate (fpr), true positive rate (tpr), and threshold values\n",
        "fpr, tpr, thresholds = roc_curve(y_test, rf_pred)\n",
        "\n",
        "# calculate area under the curve (AUC)\n",
        "roc_auc = auc(fpr, tpr)\n",
        "\n",
        "# plot ROC curve\n",
        "plt.figure()\n",
        "plt.plot(fpr, tpr, color='darkorange', lw=2, label='ROC curve (area = %0.2f)' % roc_auc)\n",
        "plt.plot([0, 1], [0, 1], color='navy', lw=2, linestyle='--')\n",
        "plt.xlim([0.0, 1.0])\n",
        "plt.ylim([0.0, 1.05])\n",
        "plt.xlabel('False Positive Rate')\n",
        "plt.ylabel('True Positive Rate')\n",
        "plt.title('Receiver Operating Characteristic (ROC) Curve')\n",
        "plt.legend(loc=\"lower right\")\n",
        "plt.show()\n",
        "\n",
        "\n",
        "rf_model1 = RandomForestClassifier(n_estimators=500, max_depth=3)\n",
        "\n",
        "rf_model1.fit(X_train_resampled, y_train_resampled)\n",
        "\n",
        "# make predictions on the test data\n",
        "rf_pred1 = rf_model1.predict(X_test)\n",
        "\n",
        "#calculate the accuracy score\n",
        "acc2 = accuracy_score(y_test, rf_pred1)\n",
        "print(\"Accuracy: {:.2f}%\".format(acc2 * 100))\n",
        "\n",
        "print(classification_report(y_test, rf_pred1))\n",
        "\n",
        "\n",
        "# calculate false positive rate (fpr), true positive rate (tpr), and threshold values\n",
        "fpr, tpr, thresholds = roc_curve(y_test, rf_pred1)\n",
        "\n",
        "# calculate area under the curve (AUC)\n",
        "roc_auc = auc(fpr, tpr)\n",
        "\n",
        "# plot ROC curve\n",
        "plt.figure()\n",
        "plt.plot(fpr, tpr, color='darkorange', lw=2, label='ROC curve (area = %0.2f)' % roc_auc)\n",
        "plt.plot([0, 1], [0, 1], color='navy', lw=2, linestyle='--')\n",
        "plt.xlim([0.0, 1.0])\n",
        "plt.ylim([0.0, 1.05])\n",
        "plt.xlabel('False Positive Rate')\n",
        "plt.ylabel('True Positive Rate')\n",
        "plt.title('Receiver Operating Characteristic (ROC) Curve')\n",
        "plt.legend(loc=\"lower right\")\n",
        "plt.show()\n",
        "\n",
        "loss = log_loss(y_test, rf_pred)\n",
        "print(\"Cross-entropy Loss:\", loss)\n",
        "\n",
        "loss = log_loss(y_test, rf_pred1)\n",
        "print(\"Cross-entropy Loss:\", loss)\n"
      ]
    },
    {
      "cell_type": "code",
      "source": [],
      "metadata": {
        "id": "LsG-t3Lhj4Rh"
      },
      "execution_count": 226,
      "outputs": []
    }
  ],
  "metadata": {
    "colab": {
      "provenance": [],
      "authorship_tag": "ABX9TyPM7Bx01k0Q+YBzB1gOdhZT",
      "include_colab_link": true
    },
    "kernelspec": {
      "display_name": "Python 3",
      "name": "python3"
    },
    "language_info": {
      "name": "python"
    }
  },
  "nbformat": 4,
  "nbformat_minor": 0
}